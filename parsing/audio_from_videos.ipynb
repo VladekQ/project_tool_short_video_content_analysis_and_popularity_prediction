{
 "cells": [
  {
   "cell_type": "code",
   "execution_count": 16,
   "id": "c223ba7d",
   "metadata": {},
   "outputs": [
    {
     "name": "stdout",
     "output_type": "stream",
     "text": [
      "Worktime: 2957.00 seconds\n",
      "Videos Count: 5082\n"
     ]
    }
   ],
   "source": [
    "from moviepy.editor import VideoFileClip\n",
    "import pandas as pd\n",
    "import os\n",
    "import time\n",
    "\n",
    "def get_videos_list(directory=''):\n",
    "    return [x.replace('.mp4', '') for x in os.listdir(directory) if '.mp4' in x]\n",
    "\n",
    "def get_audios_list(directory=''):\n",
    "    return [x.replace('.mp3', '') for x in os.listdir(directory) if '.mp3' in x]\n",
    "\n",
    "def video_to_audio(video_path):\n",
    "    try:\n",
    "        # Define the input video file and output audio file\n",
    "        mp4_file = 'formatted_videos/' + video_path\n",
    "        wav_file = mp4_file.replace('formatted_videos', 'audio_from_videos').replace('.mp4', '.mp3')\n",
    "        \n",
    "        # Load the video clip\n",
    "        video_clip = VideoFileClip(mp4_file)\n",
    "        \n",
    "        # Extract the audio from the video clip\n",
    "        audio_clip = video_clip.audio\n",
    "        \n",
    "        # Write the audio to a separate file\n",
    "        audio_clip.write_audiofile(wav_file, verbose=False, logger=None)\n",
    "        \n",
    "        # Close the video and audio clips\n",
    "        audio_clip.close()\n",
    "        video_clip.close()\n",
    "        \n",
    "        # print(\"Audio extraction successful!\")\n",
    "    except:\n",
    "        pass\n",
    "    \n",
    "if __name__ == '__main__':\n",
    "    videos_list = get_videos_list('formatted_videos')\n",
    "    audios_list = get_audios_list('audio_from_videos')\n",
    "    \n",
    "    if not os.path.exists('audio_from_videos'):\n",
    "        os.makedirs('audio_from_videos')\n",
    "        \n",
    "    videos_to_process = list(set(videos_list) - set(audios_list))\n",
    "    videos_to_process = [x+'.mp4' for x in videos_to_process]\n",
    "    \n",
    "    t1 = time.perf_counter()\n",
    "    for vid in videos_to_process:\n",
    "        video_to_audio(vid)\n",
    "    t2 = time.perf_counter()\n",
    "    print('Worktime: {:.2f} seconds'.format(t2-t1))\n",
    "    print('Videos Count:', len(videos_to_process))"
   ]
  },
  {
   "cell_type": "markdown",
   "id": "951ebf85",
   "metadata": {},
   "source": [
    "0,23 сек на одно видео"
   ]
  }
 ],
 "metadata": {
  "kernelspec": {
   "display_name": "tf_env",
   "language": "python",
   "name": "tf_env"
  },
  "language_info": {
   "codemirror_mode": {
    "name": "ipython",
    "version": 3
   },
   "file_extension": ".py",
   "mimetype": "text/x-python",
   "name": "python",
   "nbconvert_exporter": "python",
   "pygments_lexer": "ipython3",
   "version": "3.9.19"
  },
  "toc": {
   "base_numbering": 1,
   "nav_menu": {},
   "number_sections": true,
   "sideBar": true,
   "skip_h1_title": false,
   "title_cell": "Table of Contents",
   "title_sidebar": "Contents",
   "toc_cell": false,
   "toc_position": {},
   "toc_section_display": true,
   "toc_window_display": false
  }
 },
 "nbformat": 4,
 "nbformat_minor": 5
}
