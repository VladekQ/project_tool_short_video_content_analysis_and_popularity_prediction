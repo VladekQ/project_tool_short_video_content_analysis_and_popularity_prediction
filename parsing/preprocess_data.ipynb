{
 "cells": [
  {
   "cell_type": "code",
   "execution_count": 83,
   "id": "0417bee3",
   "metadata": {},
   "outputs": [],
   "source": [
    "import json\n",
    "import pandas as pd\n",
    "import os\n",
    "import numpy as np\n",
    "\n",
    "filenames = ['videos_metadata_json/' + x for x in os.listdir('videos_metadata_json/') if '.json' in x]"
   ]
  },
  {
   "cell_type": "code",
   "execution_count": 84,
   "id": "e7c8fd11",
   "metadata": {},
   "outputs": [],
   "source": [
    "data = []\n",
    "\n",
    "for file_path in filenames:\n",
    "    with open(file_path, 'r') as f:\n",
    "        file_data = json.loads(f.read())\n",
    "    data.extend(file_data)"
   ]
  },
  {
   "cell_type": "code",
   "execution_count": 85,
   "id": "2d446635",
   "metadata": {},
   "outputs": [
    {
     "data": {
      "text/plain": [
       "10682"
      ]
     },
     "execution_count": 85,
     "metadata": {},
     "output_type": "execute_result"
    }
   ],
   "source": [
    "len(data)"
   ]
  },
  {
   "cell_type": "code",
   "execution_count": 86,
   "id": "3367a91f",
   "metadata": {},
   "outputs": [
    {
     "data": {
      "text/plain": [
       "{'enableAutoCaption': True, 'hasOriginalAudio': False, 'noCaptionReason': 3}"
      ]
     },
     "execution_count": 86,
     "metadata": {},
     "output_type": "execute_result"
    }
   ],
   "source": [
    "data[0]['video']['claInfo']"
   ]
  },
  {
   "cell_type": "code",
   "execution_count": 87,
   "id": "f544e498",
   "metadata": {},
   "outputs": [
    {
     "name": "stdout",
     "output_type": "stream",
     "text": [
      "Worktime: 23.52 seconds\n"
     ]
    }
   ],
   "source": [
    "import time\n",
    "\n",
    "t1 = time.perf_counter()\n",
    "\n",
    "videos = {}\n",
    "\n",
    "for video in data:\n",
    "    # t1 = time.perf_counter()\n",
    "    video_id = video['id']\n",
    "    # if video_id in already_downloaded['video_id'].tolist():\n",
    "    #     continue\n",
    "    # if 'imagePost' in video.keys():\n",
    "    #     time.sleep(1)\n",
    "    #     continue\n",
    "    videos[video_id] = {}\n",
    "    \n",
    "    # Video\n",
    "    videos[video_id]['createTime'] = video['createTime']\n",
    "    videos[video_id]['playCount'] = video['stats']['playCount']\n",
    "    videos[video_id]['commentCount'] = video['stats']['commentCount']\n",
    "    videos[video_id]['collectCount'] = video['stats']['collectCount']\n",
    "    videos[video_id]['shareCount'] = video['stats']['shareCount']\n",
    "    videos[video_id]['diggCount'] = video['stats']['diggCount']\n",
    "    \n",
    "    # Author\n",
    "    videos[video_id]['author_nickname'] = video['author']['nickname']\n",
    "    videos[video_id]['author_id'] = video['author']['id']\n",
    "    videos[video_id]['author_uniqueid'] = video['author']['uniqueId']\n",
    "    videos[video_id]['author_verified'] = video['author']['verified']\n",
    "    \n",
    "    if 'commentSetting' in video['author'].keys():\n",
    "        videos[video_id]['author_commentSetting'] = video['author']['commentSetting']\n",
    "    else:\n",
    "        videos[video_id]['author_commentSetting'] = np.nan\n",
    "    if 'downloadSetting' in video['author'].keys():\n",
    "        videos[video_id]['author_downloadSetting'] = video['author']['downloadSetting']\n",
    "    else:\n",
    "        videos[video_id]['author_downloadSetting'] = np.nan\n",
    "    if 'duetSetting' in video['author'].keys():\n",
    "        videos[video_id]['author_duetSetting'] = video['author']['duetSetting']\n",
    "    else:\n",
    "        videos[video_id]['author_duetSetting'] = np.nan\n",
    "        \n",
    "    videos[video_id]['author_signature'] = video['author']['signature']\n",
    "    videos[video_id]['author_followerCount'] = video['authorStats']['followerCount']\n",
    "    videos[video_id]['author_followingCount'] = video['authorStats']['followingCount']\n",
    "    videos[video_id]['author_videoCount'] = video['authorStats']['videoCount']\n",
    "    videos[video_id]['author_heartCount'] = video['authorStats']['heartCount']\n",
    "    videos[video_id]['author_diggCount'] = video['authorStats']['diggCount']\n",
    "    \n",
    "    # VideoTechStats\n",
    "    videos[video_id]['video_duration'] = video['video']['duration']\n",
    "    if video['video']['duration'] > 250:\n",
    "        time.sleep(1)\n",
    "        continue\n",
    "    try:\n",
    "        videos[video_id]['video_volumeInfo_Loudness'] = video['video']['volumeInfo']['Loudness']\n",
    "    except:\n",
    "        videos[video_id]['video_volumeInfo_Loudness'] = np.nan\n",
    "    try:\n",
    "        videos[video_id]['video_volumeInfo_Peak'] = video['video']['volumeInfo']['Peak']\n",
    "    except:\n",
    "        videos[video_id]['video_volumeInfo_Peak'] = np.nan\n",
    "    if 'video_theme_button' in video.keys():\n",
    "        videos[video_id]['video_theme'] = video['video_theme_button']\n",
    "    else:\n",
    "        videos[video_id]['video_theme'] = np.nan\n",
    "    if 'parsingTime' in video.keys():\n",
    "        videos[video_id]['parsingTime'] = video['parsingTime']\n",
    "    else:\n",
    "        videos[video_id]['parsingTime'] = np.nan\n",
    "        \n",
    "    videos[video_id]['video_url'] = 'https://www.tiktok.com/@/video/{}'.format(video_id)\n",
    "    videos[video_id]['video_urlDownload'] = video['video']['playAddr']\n",
    "    videos[video_id]['video_categoryType'] = video['CategoryType']\n",
    "    # videos[video_id]['video_desc'] = video['contents'][0]['desc']\n",
    "    videos[video_id]['video_desc2'] = video['desc']\n",
    "    videos[video_id]['video_text_content'] = ''\n",
    "    if 'contents' in video.keys():\n",
    "        for content in video['contents']:\n",
    "            videos[video_id]['video_text_content'] = videos[video_id]['video_text_content'] + ' ' + content['desc']\n",
    "    videos[video_id]['video_hashtags'] = ''\n",
    "    if 'challenges' in video.keys():\n",
    "        for challenge in video['challenges']:\n",
    "            videos[video_id]['video_hashtags'] = videos[video_id]['video_hashtags'] + ' ' + challenge['title']\n",
    "    # try:\n",
    "    #     videos[video_id]['video_hashtags'] = video['contents'][1]['desc']\n",
    "    # else:\n",
    "    #     videos[video_id]['video_hashtags'] = ''\n",
    "    subtitle_languages = []\n",
    "    subtitle_sizes = []\n",
    "    if 'subtitleInfos' in video['video'].keys():\n",
    "        for subtitle in video['video']['subtitleInfos']:\n",
    "            subtitle_languages.append(subtitle['LanguageID'])\n",
    "            subtitle_sizes.append(subtitle['Size'])\n",
    "            \n",
    "        videos[video_id]['video_subtitles_languages'] = len(np.unique(subtitle_languages))\n",
    "        videos[video_id]['video_subtitles_avg_size'] = np.mean(subtitle_sizes)\n",
    "    else:\n",
    "        videos[video_id]['video_subtitles_languages'] = np.nan\n",
    "        videos[video_id]['video_subtitles_avg_size'] = np.nan\n",
    "        \n",
    "    if 'claInfo' in video['video'].keys():\n",
    "        videos[video_id]['claInfo_enableAutoCaption'] = video['video']['claInfo']['enableAutoCaption']\n",
    "        videos[video_id]['claInfo_hasOriginalAudio'] = video['video']['claInfo']['hasOriginalAudio']\n",
    "        if 'noCaptionReason' in video['video']['claInfo'].keys():\n",
    "            videos[video_id]['claInfo_noCaptionReason'] = video['video']['claInfo']['noCaptionReason']\n",
    "        else:\n",
    "            videos[video_id]['claInfo_noCaptionReason'] = np.nan\n",
    "    else:\n",
    "        videos[video_id]['claInfo_enableAutoCaption'] = np.nan\n",
    "        videos[video_id]['claInfo_hasOriginalAudio'] = np.nan\n",
    "        videos[video_id]['claInfo_noCaptionReason'] = np.nan\n",
    "        \n",
    "    \n",
    "    if 'duetDisplay' in video.keys():\n",
    "        videos[video_id]['video_duetDisplay'] = video['duetDisplay']\n",
    "    else:\n",
    "        videos[video_id]['video_duetDisplay'] = np.nan\n",
    "    if 'forFriend' in video.keys():\n",
    "        videos[video_id]['video_forFriend'] = video['forFriend']\n",
    "    else:\n",
    "        videos[video_id]['video_forFriend'] = np.nan\n",
    "    if 'isAd' in video.keys():\n",
    "        videos[video_id]['video_isAd'] = video['isAd']\n",
    "    else:\n",
    "        videos[video_id]['video_isAd'] = np.nan\n",
    "    if 'itemCommentStatus' in video.keys():\n",
    "        videos[video_id]['video_itemCommentStatus'] = video['itemCommentStatus']\n",
    "    else:\n",
    "        videos[video_id]['video_itemCommentStatus'] = np.nan\n",
    "    if 'officalItem' in video.keys():\n",
    "        videos[video_id]['officalItem'] = video['officalItem']\n",
    "    else:\n",
    "        videos[video_id]['officialItem'] = np.nan\n",
    "    if 'originalItem' in video.keys():\n",
    "        videos[video_id]['originalItem'] = video['originalItem']\n",
    "    else:\n",
    "        videos[video_id]['originalItem'] = np.nan\n",
    "    if 'shareEnabled' in video.keys():\n",
    "        videos[video_id]['shareEnabled'] = video['shareEnabled']\n",
    "    else:\n",
    "        videos[video_id]['shareEnabled'] = np.nan\n",
    "        \n",
    "    videos[video_id]['textLanguage'] = video['textLanguage']\n",
    "    videos[video_id]['VQScore'] = video['video']['VQScore']\n",
    "    videos[video_id]['bitrate'] = video['video']['bitrate']\n",
    "    videos[video_id]['definition'] = video['video']['definition']\n",
    "    videos[video_id]['ratio'] = video['video']['ratio']\n",
    "    videos[video_id]['video_quality'] = video['video']['videoQuality']\n",
    "    \n",
    "    # Music\n",
    "    if 'authorName' in video['music'].keys():\n",
    "        videos[video_id]['music_authorName'] = video['music']['authorName']\n",
    "    else:\n",
    "        videos[video_id]['music_authorName'] = np.nan\n",
    "    if 'duration' in video['music'].keys():\n",
    "        videos[video_id]['music_duration'] = video['music']['duration']\n",
    "    else:\n",
    "        videos[video_id]['music_duration'] = np.nan\n",
    "    videos[video_id]['music_isCopyrighted'] = video['music']['isCopyrighted']\n",
    "    videos[video_id]['music_original'] = video['music']['original']\n",
    "    videos[video_id]['music_id'] = video['music']['id']\n",
    "    if 'authorName' in video['music'].keys() and 'title' in video['music'].keys():\n",
    "        if 'album' in video['music'].keys():\n",
    "            videos[video_id]['music_album'] = video['music']['album']\n",
    "        else:\n",
    "            videos[video_id]['music_album'] = np.nan\n",
    "        videos[video_id]['music_musicAuthorName'] = video['music']['authorName']\n",
    "        videos[video_id]['music_title'] = video['music']['title']\n",
    "        videos[video_id]['music_applemusic'] = 0\n",
    "        if 'tt2dsp' in video['music'].keys():\n",
    "            try:\n",
    "                videos[video_id]['music_meta_song_id'] = video['music']['tt2dsp']['tt_to_dsp_song_infos'][0]['meta_song_id']\n",
    "                videos[video_id]['music_platform'] = video['music']['tt2dsp']['tt_to_dsp_song_infos'][0]['platform']\n",
    "                videos[video_id]['music_song_id'] = video['music']['tt2dsp']['tt_to_dsp_song_infos'][0]['song_id']\n",
    "                videos[video_id]['music_platforms'] = len(video['music']['tt2dsp']['tt_to_dsp_song_infos'])\n",
    "                if 'token' in video['music']['tt2dsp']['tt_to_dsp_song_infos'][0].keys():\n",
    "                    videos[video_id]['music_applemusic'] = 1\n",
    "            except:\n",
    "                videos[video_id]['music_meta_song_id'] = ''\n",
    "                videos[video_id]['music_platform'] = np.nan\n",
    "                videos[video_id]['music_song_id'] = ''\n",
    "                videos[video_id]['music_platforms'] = np.nan\n",
    "        else:\n",
    "            videos[video_id]['music_meta_song_id'] = ''\n",
    "            videos[video_id]['music_platform'] = np.nan\n",
    "            videos[video_id]['music_song_id'] = ''\n",
    "            videos[video_id]['music_platforms'] = np.nan\n",
    "    else:\n",
    "        videos[video_id]['music_album'] = ''\n",
    "        videos[video_id]['music_musicAuthorName'] = ''\n",
    "        videos[video_id]['music_title'] = ''\n",
    "        videos[video_id]['music_meta_song_id'] = ''\n",
    "        videos[video_id]['music_platform'] = np.nan\n",
    "        videos[video_id]['music_song_id'] = ''\n",
    "        videos[video_id]['music_platforms'] = np.nan\n",
    "        \n",
    "    videos[video_id]['suggest_words'] = ''\n",
    "    if 'videoSuggestWordsList' in video.keys():\n",
    "        for words in video['videoSuggestWordsList']['video_suggest_words_struct']:\n",
    "            for word in words['words']:\n",
    "                videos[video_id]['suggest_words'] = videos[video_id]['suggest_words'] + word['word'] + '+++'\n",
    "    \n",
    "    videos[video_id]['stickers'] = ''\n",
    "    videos[video_id]['stickers_types'] = ''\n",
    "    if 'stickersOnItem' in video.keys():\n",
    "        for sticker in video['stickersOnItem']:\n",
    "            full_sticker_text = ''\n",
    "            for sticker_text in sticker['stickerText']:\n",
    "                full_sticker_text = full_sticker_text + sticker_text + '---'\n",
    "            videos[video_id]['stickers'] = videos[video_id]['stickers'] + full_sticker_text + '+++'\n",
    "            videos[video_id]['stickers_types'] = videos[video_id]['stickers_types'] + str(sticker['stickerType']) + '+++'\n",
    "            \n",
    "t2 = time.perf_counter()\n",
    "print('Worktime: {:.2f} seconds'.format(t2-t1))"
   ]
  },
  {
   "cell_type": "code",
   "execution_count": 88,
   "id": "8cccbd65",
   "metadata": {},
   "outputs": [],
   "source": [
    "final_data = pd.DataFrame.from_dict(videos, orient='index')\n",
    "final_data['parsingTime'] = pd.to_datetime(final_data['parsingTime'].str.replace('_', ''), format='%Y%m%d%H%M')\n",
    "final_data.index.name = 'video_id'\n",
    "final_data = final_data.reset_index()"
   ]
  },
  {
   "cell_type": "code",
   "execution_count": 89,
   "id": "05e0ee82",
   "metadata": {},
   "outputs": [
    {
     "data": {
      "text/plain": [
       "(5084, 65)"
      ]
     },
     "execution_count": 89,
     "metadata": {},
     "output_type": "execute_result"
    }
   ],
   "source": [
    "final_data.shape"
   ]
  },
  {
   "cell_type": "code",
   "execution_count": 90,
   "id": "45066ec6",
   "metadata": {},
   "outputs": [],
   "source": [
    "import sqlite3\n",
    "import pandas as pd\n",
    "import numpy as np\n",
    "\n",
    "connection = sqlite3.connect('../videos_database.db')\n",
    "cursor = connection.cursor()\n",
    "\n",
    "cursor.execute('drop table videos_metadata_full')\n",
    "connection.commit()"
   ]
  },
  {
   "cell_type": "code",
   "execution_count": 91,
   "id": "448441ab",
   "metadata": {},
   "outputs": [
    {
     "data": {
      "text/plain": [
       "5084"
      ]
     },
     "execution_count": 91,
     "metadata": {},
     "output_type": "execute_result"
    }
   ],
   "source": [
    "final_data.to_sql('videos_metadata_full', connection, if_exists='append', index=False)"
   ]
  },
  {
   "cell_type": "code",
   "execution_count": null,
   "id": "b0e244e9",
   "metadata": {},
   "outputs": [],
   "source": []
  }
 ],
 "metadata": {
  "kernelspec": {
   "display_name": "yolo_env",
   "language": "python",
   "name": "myenv"
  },
  "language_info": {
   "codemirror_mode": {
    "name": "ipython",
    "version": 3
   },
   "file_extension": ".py",
   "mimetype": "text/x-python",
   "name": "python",
   "nbconvert_exporter": "python",
   "pygments_lexer": "ipython3",
   "version": "3.9.21"
  },
  "toc": {
   "base_numbering": 1,
   "nav_menu": {},
   "number_sections": true,
   "sideBar": true,
   "skip_h1_title": false,
   "title_cell": "Table of Contents",
   "title_sidebar": "Contents",
   "toc_cell": false,
   "toc_position": {},
   "toc_section_display": true,
   "toc_window_display": false
  }
 },
 "nbformat": 4,
 "nbformat_minor": 5
}
